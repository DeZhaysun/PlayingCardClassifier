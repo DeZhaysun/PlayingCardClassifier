{
 "cells": [
  {
   "cell_type": "markdown",
   "id": "fc18944b-9fa7-4e9f-a608-40b864830ce1",
   "metadata": {},
   "source": [
    "# Playing Card Classifier with Pytorch"
   ]
  },
  {
   "cell_type": "markdown",
   "id": "9d7cde11-223c-4510-b54e-f7727f645181",
   "metadata": {},
   "source": [
    "## Import Libraries"
   ]
  },
  {
   "cell_type": "code",
   "execution_count": 2,
   "id": "e79641d4-2d9f-4d61-b96f-5c03fca8a514",
   "metadata": {},
   "outputs": [],
   "source": [
    "import torch\n",
    "import torch.nn as nn\n",
    "import torch.optim as optim\n",
    "from torch.utils.data import Dataset, DataLoader\n",
    "import torchvision\n",
    "import torchvision.transforms as transforms\n",
    "from torchvision.datasets import ImageFolder\n",
    "import timm\n",
    "\n",
    "import matplotlib.pyplot as plt\n",
    "import pandas as pd\n",
    "import numpy as np\n",
    "import sys\n",
    "from tqdm.notebook import tqdm"
   ]
  },
  {
   "cell_type": "markdown",
   "id": "586a335b-44c5-4488-ae5d-64079ab5d9e4",
   "metadata": {},
   "source": [
    "## Data"
   ]
  },
  {
   "cell_type": "code",
   "execution_count": 3,
   "id": "fe1f02e0-c46c-494a-a854-e9e486750fd5",
   "metadata": {},
   "outputs": [],
   "source": [
    "class PlayingCardDataset(Dataset):\n",
    "    def __init__(self, data_dir, transform=None):\n",
    "        self.data = ImageFolder(data_dir, transform=transform)\n",
    "    \n",
    "    def __len__(self):\n",
    "        return len(self.data)\n",
    "    \n",
    "    def __getitem__(self, idx):\n",
    "        return self.data[idx]\n",
    "    \n",
    "    @property\n",
    "    def classes(self):\n",
    "        return self.data.classes"
   ]
  },
  {
   "cell_type": "code",
   "execution_count": 4,
   "id": "f901896b-6761-48b8-ac07-d8f27515eb96",
   "metadata": {},
   "outputs": [
    {
     "data": {
      "text/plain": [
       "{0: 'ace of clubs',\n",
       " 1: 'ace of diamonds',\n",
       " 2: 'ace of hearts',\n",
       " 3: 'ace of spades',\n",
       " 4: 'eight of clubs',\n",
       " 5: 'eight of diamonds',\n",
       " 6: 'eight of hearts',\n",
       " 7: 'eight of spades',\n",
       " 8: 'five of clubs',\n",
       " 9: 'five of diamonds',\n",
       " 10: 'five of hearts',\n",
       " 11: 'five of spades',\n",
       " 12: 'four of clubs',\n",
       " 13: 'four of diamonds',\n",
       " 14: 'four of hearts',\n",
       " 15: 'four of spades',\n",
       " 16: 'jack of clubs',\n",
       " 17: 'jack of diamonds',\n",
       " 18: 'jack of hearts',\n",
       " 19: 'jack of spades',\n",
       " 20: 'joker',\n",
       " 21: 'king of clubs',\n",
       " 22: 'king of diamonds',\n",
       " 23: 'king of hearts',\n",
       " 24: 'king of spades',\n",
       " 25: 'nine of clubs',\n",
       " 26: 'nine of diamonds',\n",
       " 27: 'nine of hearts',\n",
       " 28: 'nine of spades',\n",
       " 29: 'queen of clubs',\n",
       " 30: 'queen of diamonds',\n",
       " 31: 'queen of hearts',\n",
       " 32: 'queen of spades',\n",
       " 33: 'seven of clubs',\n",
       " 34: 'seven of diamonds',\n",
       " 35: 'seven of hearts',\n",
       " 36: 'seven of spades',\n",
       " 37: 'six of clubs',\n",
       " 38: 'six of diamonds',\n",
       " 39: 'six of hearts',\n",
       " 40: 'six of spades',\n",
       " 41: 'ten of clubs',\n",
       " 42: 'ten of diamonds',\n",
       " 43: 'ten of hearts',\n",
       " 44: 'ten of spades',\n",
       " 45: 'three of clubs',\n",
       " 46: 'three of diamonds',\n",
       " 47: 'three of hearts',\n",
       " 48: 'three of spades',\n",
       " 49: 'two of clubs',\n",
       " 50: 'two of diamonds',\n",
       " 51: 'two of hearts',\n",
       " 52: 'two of spades'}"
      ]
     },
     "execution_count": 4,
     "metadata": {},
     "output_type": "execute_result"
    }
   ],
   "source": [
    "data_dir = './train'\n",
    "target_to_class = {v: k for k, v in ImageFolder(data_dir).class_to_idx.items()}\n",
    "target_to_class"
   ]
  },
  {
   "cell_type": "code",
   "execution_count": 5,
   "id": "684657a7-096a-45f7-bbc4-32fe08c281c3",
   "metadata": {},
   "outputs": [],
   "source": [
    "transform = transforms.Compose([\n",
    "    transforms.Resize((128, 128)),\n",
    "    transforms.ToTensor(),\n",
    "])"
   ]
  },
  {
   "cell_type": "code",
   "execution_count": 6,
   "id": "a291c667-2911-47f0-8c78-8e6cd23183c5",
   "metadata": {},
   "outputs": [],
   "source": [
    "data_dir = './train'\n",
    "dataset = PlayingCardDataset(data_dir, transform)"
   ]
  },
  {
   "cell_type": "code",
   "execution_count": 7,
   "id": "0f1b1d10-c94d-4fa2-a702-39387d76318b",
   "metadata": {},
   "outputs": [
    {
     "data": {
      "text/plain": [
       "tensor([22, 14, 22, 30, 26, 51, 23, 40, 20, 24, 48,  2,  0, 32, 17, 32,  0, 42,\n",
       "        31, 51, 19, 44, 36, 36,  6, 52, 26, 24, 23,  2,  2, 38])"
      ]
     },
     "execution_count": 7,
     "metadata": {},
     "output_type": "execute_result"
    }
   ],
   "source": [
    "dataloader = DataLoader(dataset, batch_size=32, shuffle=True)\n",
    "for images, labels in dataloader:\n",
    "    break\n",
    "labels"
   ]
  },
  {
   "cell_type": "markdown",
   "id": "b0ebba1e-b3d1-46d0-b6a2-7c933c384d91",
   "metadata": {},
   "source": [
    "## Pytorch Model"
   ]
  },
  {
   "cell_type": "code",
   "execution_count": 8,
   "id": "50cb2c1b-40cf-48e3-80c0-0a496cdeefb2",
   "metadata": {},
   "outputs": [],
   "source": [
    "class SimpleCardClassifier(nn.Module):\n",
    "    def __init__(self, num_classes=53):\n",
    "        super(SimpleCardClassifier, self).__init__()\n",
    "        # Where we define all the parts of the model\n",
    "        self.base_model = timm.create_model('efficientnet_b0', pretrained=True)\n",
    "        self.features = nn.Sequential(*list(self.base_model.children())[:-1])\n",
    "\n",
    "        enet_out_size = 1280\n",
    "        # Make a classifier\n",
    "        self.classifier = nn.Sequential(\n",
    "            nn.Flatten(),\n",
    "            nn.Linear(enet_out_size, num_classes)\n",
    "        )\n",
    "    \n",
    "    def forward(self, x):\n",
    "        # Connect these parts and return the output\n",
    "        x = self.features(x)\n",
    "        output = self.classifier(x)\n",
    "        return output"
   ]
  },
  {
   "cell_type": "code",
   "execution_count": 9,
   "id": "99a4a5f4-2c09-4a64-9098-96203ea99946",
   "metadata": {},
   "outputs": [
    {
     "data": {
      "text/plain": [
       "torch.Size([32, 53])"
      ]
     },
     "execution_count": 9,
     "metadata": {},
     "output_type": "execute_result"
    }
   ],
   "source": [
    "model = SimpleCardClassifier(num_classes=53)\n",
    "example = model(images)\n",
    "example.shape # Batch size, Num classes"
   ]
  },
  {
   "cell_type": "markdown",
   "id": "d2559e39-cc40-4c46-8746-686c82dedfb0",
   "metadata": {},
   "source": [
    " ## Training loop"
   ]
  },
  {
   "cell_type": "code",
   "execution_count": 10,
   "id": "8fb04f69-22d0-43e0-8edc-53cf05380cbb",
   "metadata": {},
   "outputs": [
    {
     "data": {
      "text/plain": [
       "tensor(4.0069, grad_fn=<NllLossBackward0>)"
      ]
     },
     "execution_count": 10,
     "metadata": {},
     "output_type": "execute_result"
    }
   ],
   "source": [
    "# Loss function\n",
    "criterion = nn.CrossEntropyLoss()\n",
    "# Optimizer\n",
    "optimizer = optim.Adam(model.parameters(), lr=0.001)\n",
    "\n",
    "criterion(example, labels)"
   ]
  },
  {
   "cell_type": "code",
   "execution_count": 11,
   "id": "08cb751c-8377-4f4f-a797-c5a75f9c0546",
   "metadata": {},
   "outputs": [],
   "source": [
    "train_folder = './train/'\n",
    "valid_folder = './valid/'\n",
    "test_folder = './test/'\n",
    "\n",
    "train_dataset = PlayingCardDataset(train_folder, transform=transform)\n",
    "val_dataset = PlayingCardDataset(valid_folder, transform=transform)\n",
    "test_dataset = PlayingCardDataset(test_folder, transform=transform)\n",
    "\n",
    "train_loader = DataLoader(train_dataset, batch_size=32, shuffle=True)\n",
    "val_loader = DataLoader(val_dataset, batch_size=32, shuffle=False)\n",
    "test_loader = DataLoader(val_dataset, batch_size=32, shuffle=False)"
   ]
  },
  {
   "cell_type": "code",
   "execution_count": 15,
   "id": "c24746e9-fb12-4d32-b7bc-e1a08b1dbddb",
   "metadata": {},
   "outputs": [
    {
     "data": {
      "application/vnd.jupyter.widget-view+json": {
       "model_id": "391a3750661046e9bfda2daf5b9e0379",
       "version_major": 2,
       "version_minor": 0
      },
      "text/plain": [
       "Validation loop:   0%|          | 0/9 [00:00<?, ?it/s]"
      ]
     },
     "metadata": {},
     "output_type": "display_data"
    },
    {
     "name": "stdout",
     "output_type": "stream",
     "text": [
      "Epoch 1/3 - Train loss: 0.4595937795491434, Validation loss: 0.2609227216468667\n"
     ]
    },
    {
     "data": {
      "application/vnd.jupyter.widget-view+json": {
       "model_id": "66341cf0738448429813b994d447ac65",
       "version_major": 2,
       "version_minor": 0
      },
      "text/plain": [
       "Validation loop:   0%|          | 0/9 [00:00<?, ?it/s]"
      ]
     },
     "metadata": {},
     "output_type": "display_data"
    },
    {
     "name": "stdout",
     "output_type": "stream",
     "text": [
      "Epoch 2/3 - Train loss: 0.3122954734005933, Validation loss: 0.13705623104887188\n"
     ]
    },
    {
     "data": {
      "application/vnd.jupyter.widget-view+json": {
       "model_id": "d35347801a6647629a3472f651378eff",
       "version_major": 2,
       "version_minor": 0
      },
      "text/plain": [
       "Validation loop:   0%|          | 0/9 [00:00<?, ?it/s]"
      ]
     },
     "metadata": {},
     "output_type": "display_data"
    },
    {
     "name": "stdout",
     "output_type": "stream",
     "text": [
      "Epoch 3/3 - Train loss: 0.22726974170361836, Validation loss: 0.09810800102521788\n"
     ]
    }
   ],
   "source": [
    "num_epochs = 3\n",
    "train_losses, val_losses = [], []\n",
    "\n",
    "device = torch.device(\"cuda:0\" if torch.cuda.is_available() else \"cpu\")\n",
    "\n",
    "for epoch in range(num_epochs):\n",
    "    # Training\n",
    "    model.train()\n",
    "    running_loss = 0.0\n",
    "    for images, labels in tqdm(train_loader, desc='Training loop'):\n",
    "        # Move inputs and labels to the device\n",
    "        images, labels = images.to(device), labels.to(device)\n",
    "        \n",
    "        optimizer.zero_grad()\n",
    "        outputs = model(images)\n",
    "        loss = criterion(outputs, labels)\n",
    "        loss.backward()\n",
    "        optimizer.step()\n",
    "        running_loss += loss.item() * labels.size(0)\n",
    "    train_loss = running_loss / len(train_loader.dataset)\n",
    "    train_losses.append(train_loss)\n",
    "\n",
    "    # Evaluation\n",
    "    model.eval()\n",
    "    running_loss = 0.0\n",
    "    with torch.no_grad():\n",
    "        for images, labels in tqdm(val_loader, desc='Validation loop'):\n",
    "            # Move inputs and labels to the device\n",
    "            images, labels = images.to(device), labels.to(device)\n",
    "         \n",
    "            outputs = model(images)\n",
    "            loss = criterion(outputs, labels)\n",
    "            running_loss += loss.item() * labels.size(0)\n",
    "    val_loss = running_loss / len(val_loader.dataset)\n",
    "    val_losses.append(val_loss)\n",
    "    print(f\"Epoch {epoch+1}/{num_epochs} - Train loss: {train_loss}, Validation loss: {val_loss}\")\n",
    "    "
   ]
  },
  {
   "cell_type": "code",
   "execution_count": 16,
   "id": "3cb98257-7d19-4f38-bedc-d4b850510b85",
   "metadata": {},
   "outputs": [
    {
     "data": {
      "image/png": "[encoded data removed]",
      "text/plain": [
       "<Figure size 640x480 with 1 Axes>"
      ]
     },
     "metadata": {},
     "output_type": "display_data"
    }
   ],
   "source": [
    "plt.plot(train_losses, label='Training loss')\n",
    "plt.plot(val_losses, label='Validation loss')\n",
    "plt.legend()\n",
    "plt.title(\"Loss over epochs\")\n",
    "plt.show()"
   ]
  },
  {
   "cell_type": "code",
   "execution_count": null,
   "id": "a03bde16-0a1e-4376-a412-f47bc181d152",
   "metadata": {},
   "outputs": [],
   "source": []
  }
 ],
 "metadata": {
  "kernelspec": {
   "display_name": "Python 3 (ipykernel)",
   "language": "python",
   "name": "python3"
  },
  "language_info": {
   "codemirror_mode": {
    "name": "ipython",
    "version": 3
   },
   "file_extension": ".py",
   "mimetype": "text/x-python",
   "name": "python",
   "nbconvert_exporter": "python",
   "pygments_lexer": "ipython3",
   "version": "3.12.1"
  }
 },
 "nbformat": 4,
 "nbformat_minor": 5
}
